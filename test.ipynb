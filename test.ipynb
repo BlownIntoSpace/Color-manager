{
 "cells": [
  {
   "cell_type": "code",
   "execution_count": 5,
   "metadata": {},
   "outputs": [
    {
     "name": "stdout",
     "output_type": "stream",
     "text": [
      "The autoreload extension is already loaded. To reload it, use:\n",
      "  %reload_ext autoreload\n"
     ]
    }
   ],
   "source": [
    "%load_ext autoreload\n",
    "%autoreload 2\n",
    "\n",
    "from color_manager import utils"
   ]
  },
  {
   "cell_type": "code",
   "execution_count": null,
   "metadata": {},
   "outputs": [],
   "source": [
    "src     = \"test/graphics\" # Also try \"test/theme\"\n",
    "name    = \"test\"\n",
    "dest    = \"~/Downloads\"\n",
    "\n",
    "palette = {\n",
    "    \"type\": \"palette\",\n",
    "    \"name\": \"Dracula\",\n",
    "    \"desc\": \"Dark mode scheme with vibrant and contrasting colors.\",\n",
    "    \"smooth\": False,\n",
    "    \"colors\": [\n",
    "        \"#44475a\",\n",
    "        \"#f8f8f2\",\n",
    "        \"#6272a4\",\n",
    "        \"#6272a4\",\n",
    "        \"#8be9fd\",\n",
    "        \"#50fa7b\",\n",
    "        \"#ffb86c\",\n",
    "        \"#ff79c6\",\n",
    "        \"#bd93f9\",\n",
    "        \"#ff5555\",\n",
    "        \"#f1fa8c\"\n",
    "    ]\n",
    "}\n",
    "\n",
    "utils.recolor(src, dest, name, palette)"
   ]
  },
  {
   "cell_type": "code",
   "execution_count": 8,
   "metadata": {},
   "outputs": [
    {
     "name": "stdout",
     "output_type": "stream",
     "text": [
      "/home/nv/Downloads/Soph/index.theme\n"
     ]
    },
    {
     "name": "stderr",
     "output_type": "stream",
     "text": [
      "svg: 100%|██████████| 7974/7974 [00:01<00:00, 5077.70it/s]\n"
     ]
    }
   ],
   "source": [
    "src     = \"~/Downloads/NovaOS-nord-icons\" # Also try \"test/theme\"\n",
    "name    = \"Soph\"\n",
    "dest    = \"~/Downloads\"\n",
    "color   = (0.6, 0.54, 0.5) # = rc.normalize_hsl(180, 50, 50)\n",
    "color   = utils.norm_hsl(234, 65, 65)\n",
    "palette = \"palettes/nord.json\"\n",
    "mapping = \"mappings/renord.json\"\n",
    "\n",
    "# Either input a single color, palette, or mapping.\n",
    "utils.recolor(src, dest, name, color)"
   ]
  }
 ],
 "metadata": {
  "kernelspec": {
   "display_name": "base",
   "language": "python",
   "name": "python3"
  },
  "language_info": {
   "codemirror_mode": {
    "name": "ipython",
    "version": 3
   },
   "file_extension": ".py",
   "mimetype": "text/x-python",
   "name": "python",
   "nbconvert_exporter": "python",
   "pygments_lexer": "ipython3",
   "version": "3.10.12"
  },
  "orig_nbformat": 4
 },
 "nbformat": 4,
 "nbformat_minor": 2
}
