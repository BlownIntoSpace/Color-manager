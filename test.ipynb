{
 "cells": [
  {
   "cell_type": "code",
   "execution_count": null,
   "metadata": {},
   "outputs": [],
   "source": [
    "%load_ext autoreload\n",
    "%autoreload 2\n",
    "\n",
    "from color_manager import utils"
   ]
  },
  {
   "cell_type": "code",
   "execution_count": 4,
   "metadata": {},
   "outputs": [
    {
     "name": "stdout",
     "output_type": "stream",
     "text": [
      "/home/nv/Downloads/my_pack/index.theme\n"
     ]
    },
    {
     "name": "stderr",
     "output_type": "stream",
     "text": [
      "svg: 100%|██████████| 43/43 [00:00<00:00, 250.05it/s]\n",
      "png: 100%|██████████| 439/439 [00:01<00:00, 360.71it/s]\n",
      "css: 100%|██████████| 12/12 [00:00<00:00, 84.68it/s]\n"
     ]
    }
   ],
   "source": [
    "src     = \"test_theme\" # = \"test_theme\"\n",
    "name    = \"my_pack\" # = \"my_theme\"\n",
    "dest    = \"~/Downloads\"\n",
    "hsl     = (0.6, 0.54, 0.5) # = rc.normalize_hsl(180, 50, 50)\n",
    "palette = \"palettes/nord.json\"\n",
    "\n",
    "utils.recolor(src, dest, name, hsl) # Either hsl or palette"
   ]
  },
  {
   "cell_type": "markdown",
   "metadata": {},
   "source": [
    "Priority: Preserve transparency in PNGs after multichrome recoloring."
   ]
  }
 ],
 "metadata": {
  "kernelspec": {
   "display_name": "base",
   "language": "python",
   "name": "python3"
  },
  "language_info": {
   "codemirror_mode": {
    "name": "ipython",
    "version": 3
   },
   "file_extension": ".py",
   "mimetype": "text/x-python",
   "name": "python",
   "nbconvert_exporter": "python",
   "pygments_lexer": "ipython3",
   "version": "3.10.12"
  },
  "orig_nbformat": 4
 },
 "nbformat": 4,
 "nbformat_minor": 2
}
