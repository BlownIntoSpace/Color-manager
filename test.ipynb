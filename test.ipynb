{
 "cells": [
  {
   "cell_type": "code",
   "execution_count": 1,
   "metadata": {},
   "outputs": [],
   "source": [
    "%load_ext autoreload\n",
    "%autoreload 2\n",
    "\n",
    "from color_manager import utils"
   ]
  },
  {
   "cell_type": "code",
   "execution_count": 22,
   "metadata": {},
   "outputs": [
    {
     "name": "stdout",
     "output_type": "stream",
     "text": [
      "/home/nv/.themes/NovaOS-beach/index.theme\n"
     ]
    },
    {
     "name": "stderr",
     "output_type": "stream",
     "text": [
      "svg: 100%|██████████| 84/84 [00:00<00:00, 410.00it/s]\n",
      "css: 100%|██████████| 26/26 [00:00<00:00, 82.01it/s]\n",
      "png: 100%|██████████| 442/442 [00:08<00:00, 52.42it/s] \n"
     ]
    }
   ],
   "source": [
    "# Generate theme pack.\n",
    "utils.recolor(\n",
    "    \"/opt/nova/theme/NovaOS-nord/\", # Source\n",
    "    \"~/.themes\", # Destination\n",
    "    \"NovaOS-beach\", # New name\n",
    "    utils.norm_hsl(190, 35, 65)\n",
    ")"
   ]
  },
  {
   "cell_type": "code",
   "execution_count": 16,
   "metadata": {},
   "outputs": [
    {
     "name": "stdout",
     "output_type": "stream",
     "text": [
      "/home/nv/.icons/NovaOS-beach/index.theme\n"
     ]
    },
    {
     "name": "stderr",
     "output_type": "stream",
     "text": [
      "svg: 100%|██████████| 7974/7974 [00:01<00:00, 5217.52it/s]\n"
     ]
    }
   ],
   "source": [
    "# Generate icon pack.\n",
    "utils.recolor(\n",
    "    \"/opt/nova/icons/NovaOS-nord\", # Source\n",
    "    \"~/.icons\", # Destination\n",
    "    \"NovaOS-beach\", # New name\n",
    "    utils.norm_hsl(36, 65, 75)\n",
    ")"
   ]
  },
  {
   "cell_type": "code",
   "execution_count": null,
   "metadata": {},
   "outputs": [],
   "source": [
    "# Generate wallpaper pack.\n",
    "utils.recolor(\n",
    "    \"~/Downloads/NovaOS-nord-wallpapers\", # Source\n",
    "    \"~/.wallpapers\", # Destination\n",
    "    \"beach_wallpapers\", # New name\n",
    "    utils.norm_hsl(187, 100, 60)\n",
    ")"
   ]
  }
 ],
 "metadata": {
  "kernelspec": {
   "display_name": "base",
   "language": "python",
   "name": "python3"
  },
  "language_info": {
   "codemirror_mode": {
    "name": "ipython",
    "version": 3
   },
   "file_extension": ".py",
   "mimetype": "text/x-python",
   "name": "python",
   "nbconvert_exporter": "python",
   "pygments_lexer": "ipython3",
   "version": "3.10.12"
  },
  "orig_nbformat": 4
 },
 "nbformat": 4,
 "nbformat_minor": 2
}
