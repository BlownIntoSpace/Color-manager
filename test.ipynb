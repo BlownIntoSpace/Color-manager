{
 "cells": [
  {
   "cell_type": "code",
   "execution_count": null,
   "metadata": {},
   "outputs": [],
   "source": [
    "%load_ext autoreload\n",
    "%autoreload 2"
   ]
  },
  {
   "cell_type": "code",
   "execution_count": null,
   "metadata": {},
   "outputs": [],
   "source": [
    "from color_manager import utils\n",
    "\n",
    "src     = \"test_pack\"\n",
    "name    = \"my_pack\"\n",
    "dest    = \"~/Downloads\"\n",
    "hsl     = (0.6, 0.54, 0.5) # = rc.normalize_hsl(180, 50, 50)\n",
    "palette = \"palettes/nord.json\"\n",
    "\n",
    "utils.recolor(src, dest, name, palette) # Either hsl or palette"
   ]
  },
  {
   "cell_type": "code",
   "execution_count": null,
   "metadata": {},
   "outputs": [],
   "source": [
    "from color_manager import utils\n",
    "\n",
    "image      = \"test_pack/imgs/lake_cabin.png\" # Also try an svg.\n",
    "num_colors = 10\n",
    "output     = \"resources/palette.png\" # Optional - saves colors as image.\n",
    "\n",
    "utils.extract_colors(image, num_colors, output)"
   ]
  },
  {
   "cell_type": "code",
   "execution_count": null,
   "metadata": {},
   "outputs": [],
   "source": [
    "from color_manager import utils\n",
    "\n",
    "svg_path = \"resources/icon.svg\"\n",
    "save_path = \"resources/icon_cleaned.svg\" # Optional.\n",
    "\n",
    "utils.clean_svg(svg_path, save_path)"
   ]
  },
  {
   "cell_type": "code",
   "execution_count": 93,
   "metadata": {},
   "outputs": [
    {
     "name": "stderr",
     "output_type": "stream",
     "text": [
      "Changing svgs  : 100%|██████████| 6/6 [00:00<00:00, 4617.58file/s]\n"
     ]
    }
   ],
   "source": [
    "from color_manager import utils\n",
    "\n",
    "src      = \"test_pack\"\n",
    "name     = \"my_pack\"\n",
    "dest     = \"~/Downloads\"\n",
    "color    = \"#551144\" # Optional\n",
    "padding  = 4 # Optional - Between backdrop and edge.\n",
    "rounding = 1 # Optional - Between 0 and 1, i.e. rectangle and ellipse.\n",
    "\n",
    "utils.add_backdrop(src, dest, name, color, padding, rounding)"
   ]
  }
 ],
 "metadata": {
  "kernelspec": {
   "display_name": "base",
   "language": "python",
   "name": "python3"
  },
  "language_info": {
   "codemirror_mode": {
    "name": "ipython",
    "version": 3
   },
   "file_extension": ".py",
   "mimetype": "text/x-python",
   "name": "python",
   "nbconvert_exporter": "python",
   "pygments_lexer": "ipython3",
   "version": "3.10.12"
  },
  "orig_nbformat": 4
 },
 "nbformat": 4,
 "nbformat_minor": 2
}
