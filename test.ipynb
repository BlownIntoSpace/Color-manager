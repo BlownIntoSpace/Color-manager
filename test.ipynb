{
 "cells": [
  {
   "cell_type": "code",
   "execution_count": 8,
   "metadata": {},
   "outputs": [
    {
     "name": "stdout",
     "output_type": "stream",
     "text": [
      "The autoreload extension is already loaded. To reload it, use:\n",
      "  %reload_ext autoreload\n"
     ]
    }
   ],
   "source": [
    "%load_ext autoreload\n",
    "%autoreload 2\n",
    "\n",
    "from color_manager import utils"
   ]
  },
  {
   "cell_type": "code",
   "execution_count": 9,
   "metadata": {},
   "outputs": [
    {
     "name": "stdout",
     "output_type": "stream",
     "text": [
      "/home/nv/.themes/My_theme_2/index.theme\n"
     ]
    },
    {
     "name": "stderr",
     "output_type": "stream",
     "text": [
      "svg: 100%|██████████| 84/84 [00:00<00:00, 453.27it/s]\n",
      "css: 100%|██████████| 27/27 [00:00<00:00, 88.42it/s]\n",
      "png: 100%|██████████| 442/442 [00:07<00:00, 57.67it/s] \n"
     ]
    }
   ],
   "source": [
    "# Generate theme pack.\n",
    "utils.recolor(\n",
    "    \"/opt/nova/theme/NovaOS-nord/\", # Source\n",
    "    \"~/.themes\", # Destination\n",
    "    \"My_theme_2\", # New name\n",
    "    utils.norm_hsl(22, 25, 48)\n",
    ")"
   ]
  },
  {
   "cell_type": "code",
   "execution_count": 10,
   "metadata": {},
   "outputs": [
    {
     "name": "stdout",
     "output_type": "stream",
     "text": [
      "/home/nv/.icons/My_icons/index.theme\n"
     ]
    },
    {
     "name": "stderr",
     "output_type": "stream",
     "text": [
      "svg: 100%|██████████| 7974/7974 [00:01<00:00, 5775.11it/s]\n"
     ]
    }
   ],
   "source": [
    "# Generate icon pack.\n",
    "utils.recolor(\n",
    "    \"/opt/nova/icons/NovaOS-nord\", # Source\n",
    "    \"~/.icons\", # Destination\n",
    "    \"My_icons\", # New name\n",
    "    utils.norm_hsl(118, 26, 55)\n",
    ")"
   ]
  },
  {
   "cell_type": "code",
   "execution_count": 41,
   "metadata": {},
   "outputs": [
    {
     "name": "stdout",
     "output_type": "stream",
     "text": [
      "/home/nv/.wallpapers/My_wallpapers/index.theme\n"
     ]
    },
    {
     "name": "stderr",
     "output_type": "stream",
     "text": [
      "png:   0%|          | 0/5 [00:00<?, ?it/s]"
     ]
    },
    {
     "name": "stderr",
     "output_type": "stream",
     "text": [
      "png: 100%|██████████| 5/5 [00:32<00:00,  6.41s/it]\n"
     ]
    }
   ],
   "source": [
    "# Generate wallpaper pack.\n",
    "utils.recolor(\n",
    "    \"~/Downloads/NovaOS-nord-wallpapers\", # Source\n",
    "    \"~/.wallpapers\", # Destination\n",
    "    \"My_wallpapers\", # New name\n",
    "    utils.norm_hsl(0, 48, 65)\n",
    ")"
   ]
  },
  {
   "cell_type": "code",
   "execution_count": 5,
   "metadata": {},
   "outputs": [
    {
     "data": {
      "text/plain": [
       "'#0000000C'"
      ]
     },
     "execution_count": 5,
     "metadata": {},
     "output_type": "execute_result"
    }
   ],
   "source": [
    "utils.css_to_hex(\"rgba(0, 0, 0, 0.05)\")"
   ]
  },
  {
   "cell_type": "code",
   "execution_count": 7,
   "metadata": {},
   "outputs": [
    {
     "data": {
      "text/plain": [
       "'rgba(0, 0, 0, 0.05)'"
      ]
     },
     "execution_count": 7,
     "metadata": {},
     "output_type": "execute_result"
    }
   ],
   "source": [
    "utils.hex_to_css(\"#0000000C\")"
   ]
  }
 ],
 "metadata": {
  "kernelspec": {
   "display_name": "base",
   "language": "python",
   "name": "python3"
  },
  "language_info": {
   "codemirror_mode": {
    "name": "ipython",
    "version": 3
   },
   "file_extension": ".py",
   "mimetype": "text/x-python",
   "name": "python",
   "nbconvert_exporter": "python",
   "pygments_lexer": "ipython3",
   "version": "3.10.12"
  },
  "orig_nbformat": 4
 },
 "nbformat": 4,
 "nbformat_minor": 2
}
