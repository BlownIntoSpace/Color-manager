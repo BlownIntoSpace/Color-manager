{
 "cells": [
  {
   "cell_type": "code",
   "execution_count": 1,
   "metadata": {},
   "outputs": [],
   "source": [
    "import recolor as rc"
   ]
  },
  {
   "cell_type": "code",
   "execution_count": 2,
   "metadata": {},
   "outputs": [
    {
     "name": "stderr",
     "output_type": "stream",
     "text": [
      "Processing SVGs: 100%|██████████| 7980/7980 [00:01<00:00, 6403.61 file/s]\n"
     ]
    }
   ],
   "source": [
    "src     = \"packs/papirus-mini_mono\"\n",
    "name    = \"my_mono_pack\"\n",
    "dest    = \"~/Downloads\"\n",
    "hsl     = (0.5, 0.5, 0.5) # = rc.normalize_hsl(180, 50, 50)\n",
    "\n",
    "rc.monochrome_pack(src, dest, name, hsl)"
   ]
  },
  {
   "cell_type": "code",
   "execution_count": null,
   "metadata": {},
   "outputs": [],
   "source": [
    "src     = \"packs/papirus-multi_mono\"\n",
    "name    = \"my_multi_pack\"\n",
    "dest    = \"~/Downloads\"\n",
    "palette = \"palettes/dracula.json\"\n",
    "\n",
    "rc.multichrome_pack(src, dest, name, palette)"
   ]
  }
 ],
 "metadata": {
  "kernelspec": {
   "display_name": "base",
   "language": "python",
   "name": "python3"
  },
  "language_info": {
   "codemirror_mode": {
    "name": "ipython",
    "version": 3
   },
   "file_extension": ".py",
   "mimetype": "text/x-python",
   "name": "python",
   "nbconvert_exporter": "python",
   "pygments_lexer": "ipython3",
   "version": "3.10.12"
  },
  "orig_nbformat": 4
 },
 "nbformat": 4,
 "nbformat_minor": 2
}
