{
 "cells": [
  {
   "cell_type": "code",
   "execution_count": null,
   "metadata": {},
   "outputs": [],
   "source": [
    "%load_ext autoreload\n",
    "%autoreload 2\n",
    "\n",
    "from color_manager import utils"
   ]
  },
  {
   "cell_type": "code",
   "execution_count": null,
   "metadata": {},
   "outputs": [],
   "source": [
    "#resource = utils.norm_hsl(180, 50, 50) # Color\n",
    "resource = \"palettes/dracula.json\""
   ]
  },
  {
   "cell_type": "code",
   "execution_count": 12,
   "metadata": {},
   "outputs": [
    {
     "name": "stdout",
     "output_type": "stream",
     "text": [
      "/home/nv/.themes/My_theme/index.theme\n"
     ]
    },
    {
     "name": "stderr",
     "output_type": "stream",
     "text": [
      "svg: 100%|██████████| 84/84 [00:02<00:00, 40.88it/s]\n",
      "css: 100%|██████████| 27/27 [00:01<00:00, 13.56it/s]\n",
      "png: 100%|██████████| 442/442 [03:01<00:00,  2.44it/s]\n"
     ]
    }
   ],
   "source": [
    "# Generate theme pack.\n",
    "utils.recolor(\n",
    "    \"~/Downloads/NovaOS-nord-theme\", # Source\n",
    "    \"~/.themes\",                     # Destination\n",
    "    \"My_theme\",                      # New name\n",
    "    resource\n",
    ")"
   ]
  },
  {
   "cell_type": "code",
   "execution_count": 13,
   "metadata": {},
   "outputs": [
    {
     "name": "stdout",
     "output_type": "stream",
     "text": [
      "/home/nv/.icons/My_icons/index.theme\n"
     ]
    },
    {
     "name": "stderr",
     "output_type": "stream",
     "text": [
      "svg: 100%|██████████| 7974/7974 [01:04<00:00, 123.98it/s]\n"
     ]
    }
   ],
   "source": [
    "# Generate icon pack.\n",
    "utils.recolor(\n",
    "    \"~/Downloads/NovaOS-nord-icons\", # Source\n",
    "    \"~/.icons\",                      # Destination\n",
    "    \"My_icons\",                      # New name\n",
    "    resource\n",
    ")"
   ]
  },
  {
   "cell_type": "code",
   "execution_count": 14,
   "metadata": {},
   "outputs": [
    {
     "name": "stdout",
     "output_type": "stream",
     "text": [
      "/home/nv/.backgrounds/My_wallpapers/index.theme\n"
     ]
    },
    {
     "name": "stderr",
     "output_type": "stream",
     "text": [
      "png: 100%|██████████| 5/5 [00:03<00:00,  1.58it/s]\n"
     ]
    }
   ],
   "source": [
    "# Generate wallpaper pack.\n",
    "utils.recolor(\n",
    "    \"~/Downloads/NovaOS-nord-wallpapers\", # Source\n",
    "    \"~/.wallpapers\",                      # Destination\n",
    "    \"My_wallpapers\",                      # New name\n",
    "    resource\n",
    ")"
   ]
  }
 ],
 "metadata": {
  "kernelspec": {
   "display_name": "base",
   "language": "python",
   "name": "python3"
  },
  "language_info": {
   "codemirror_mode": {
    "name": "ipython",
    "version": 3
   },
   "file_extension": ".py",
   "mimetype": "text/x-python",
   "name": "python",
   "nbconvert_exporter": "python",
   "pygments_lexer": "ipython3",
   "version": "3.10.12"
  },
  "orig_nbformat": 4
 },
 "nbformat": 4,
 "nbformat_minor": 2
}
