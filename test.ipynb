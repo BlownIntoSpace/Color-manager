{
 "cells": [
  {
   "cell_type": "code",
   "execution_count": null,
   "metadata": {},
   "outputs": [],
   "source": [
    "%load_ext autoreload\n",
    "%autoreload 2"
   ]
  },
  {
   "cell_type": "code",
   "execution_count": null,
   "metadata": {},
   "outputs": [],
   "source": [
    "from color_manager import utils\n",
    "\n",
    "src     = \"test_pack\"\n",
    "name    = \"my_pack2\"\n",
    "dest    = \"~/Downloads\"\n",
    "hsl     = (0.6, 0.54, 0.5) # = rc.normalize_hsl(180, 50, 50)\n",
    "palette = \"palettes/dracula.json\"\n",
    "\n",
    "utils.recolor(src, dest, name, hsl) # hsl or palette"
   ]
  }
 ],
 "metadata": {
  "kernelspec": {
   "display_name": "base",
   "language": "python",
   "name": "python3"
  },
  "language_info": {
   "codemirror_mode": {
    "name": "ipython",
    "version": 3
   },
   "file_extension": ".py",
   "mimetype": "text/x-python",
   "name": "python",
   "nbconvert_exporter": "python",
   "pygments_lexer": "ipython3",
   "version": "3.10.12"
  },
  "orig_nbformat": 4
 },
 "nbformat": 4,
 "nbformat_minor": 2
}
