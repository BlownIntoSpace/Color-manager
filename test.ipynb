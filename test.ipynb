{
 "cells": [
  {
   "cell_type": "code",
   "execution_count": null,
   "metadata": {},
   "outputs": [],
   "source": [
    "%load_ext autoreload\n",
    "%autoreload 2\n",
    "\n",
    "from color_manager import utils"
   ]
  },
  {
   "cell_type": "code",
   "execution_count": 52,
   "metadata": {},
   "outputs": [
    {
     "name": "stdout",
     "output_type": "stream",
     "text": [
      "/home/nv/.themes/My_theme/index.theme\n"
     ]
    },
    {
     "name": "stderr",
     "output_type": "stream",
     "text": [
      "svg: 100%|██████████| 84/84 [00:00<00:00, 365.25it/s]\n",
      "css: 100%|██████████| 27/27 [00:00<00:00, 83.93it/s]\n",
      "png: 100%|██████████| 442/442 [00:07<00:00, 57.79it/s] \n"
     ]
    }
   ],
   "source": [
    "# Generate theme pack.\n",
    "utils.recolor(\n",
    "    \"~/Downloads/NovaOS-nord-theme\", # Source\n",
    "    \"~/.themes\",                     # Destination\n",
    "    \"My_theme\",                      # New name\n",
    "    utils.norm_hsl(22, 35, 50)\n",
    ")"
   ]
  },
  {
   "cell_type": "code",
   "execution_count": 54,
   "metadata": {},
   "outputs": [
    {
     "name": "stdout",
     "output_type": "stream",
     "text": [
      "/home/nv/.icons/My_icons/index.theme\n"
     ]
    },
    {
     "name": "stderr",
     "output_type": "stream",
     "text": [
      "svg: 100%|██████████| 7974/7974 [00:01<00:00, 5569.24it/s]\n"
     ]
    }
   ],
   "source": [
    "# Generate icon pack.\n",
    "utils.recolor(\n",
    "    \"~/Downloads/NovaOS-nord-icons\", # Source\n",
    "    \"~/.icons\",                      # Destination\n",
    "    \"My_icons\",                      # New name\n",
    "    utils.norm_hsl(118, 26, 50)\n",
    ")"
   ]
  },
  {
   "cell_type": "code",
   "execution_count": 41,
   "metadata": {},
   "outputs": [
    {
     "name": "stdout",
     "output_type": "stream",
     "text": [
      "/home/nv/.wallpapers/My_wallpapers/index.theme\n"
     ]
    },
    {
     "name": "stderr",
     "output_type": "stream",
     "text": [
      "png:   0%|          | 0/5 [00:00<?, ?it/s]"
     ]
    },
    {
     "name": "stderr",
     "output_type": "stream",
     "text": [
      "png: 100%|██████████| 5/5 [00:32<00:00,  6.41s/it]\n"
     ]
    }
   ],
   "source": [
    "# Generate wallpaper pack.\n",
    "utils.recolor(\n",
    "    \"~/Downloads/NovaOS-nord-wallpapers\", # Source\n",
    "    \"~/.wallpapers\",                      # Destination\n",
    "    \"My_wallpapers\",                      # New name\n",
    "    utils.norm_hsl(0, 48, 65)\n",
    ")"
   ]
  }
 ],
 "metadata": {
  "kernelspec": {
   "display_name": "base",
   "language": "python",
   "name": "python3"
  },
  "language_info": {
   "codemirror_mode": {
    "name": "ipython",
    "version": 3
   },
   "file_extension": ".py",
   "mimetype": "text/x-python",
   "name": "python",
   "nbconvert_exporter": "python",
   "pygments_lexer": "ipython3",
   "version": "3.10.12"
  },
  "orig_nbformat": 4
 },
 "nbformat": 4,
 "nbformat_minor": 2
}
