{
 "cells": [
  {
   "cell_type": "code",
   "execution_count": null,
   "metadata": {},
   "outputs": [],
   "source": [
    "%load_ext autoreload\n",
    "%autoreload 2"
   ]
  },
  {
   "cell_type": "code",
   "execution_count": null,
   "metadata": {},
   "outputs": [],
   "source": [
    "from color_manager import recolor as rc"
   ]
  },
  {
   "cell_type": "code",
   "execution_count": 74,
   "metadata": {},
   "outputs": [
    {
     "name": "stderr",
     "output_type": "stream",
     "text": [
      "Processing svgs: 100%|██████████| 6/6 [00:00<00:00, 3082.91 file/s]\n",
      "Processing pngs:   0%|          | 0/6 [00:00<?, ? file/s]"
     ]
    },
    {
     "name": "stderr",
     "output_type": "stream",
     "text": [
      "Processing pngs: 100%|██████████| 6/6 [00:00<00:00, 111.23 file/s]"
     ]
    },
    {
     "name": "stdout",
     "output_type": "stream",
     "text": [
      "converting\n",
      "converting\n",
      "converting\n",
      "converting\n",
      "converting\n",
      "converting\n"
     ]
    },
    {
     "name": "stderr",
     "output_type": "stream",
     "text": [
      "\n"
     ]
    }
   ],
   "source": [
    "src     = \"packs/test_pack\"\n",
    "name    = \"my_pack\"\n",
    "dest    = \"~/Downloads\"\n",
    "hsl     = (0.5, 0.5, 0.5) # = rc.normalize_hsl(180, 50, 50)\n",
    "palette = \"palettes/dracula.json\"\n",
    "\n",
    "rc.recolor(src, dest, name, hsl) # or palette."
   ]
  },
  {
   "cell_type": "code",
   "execution_count": 78,
   "metadata": {},
   "outputs": [
    {
     "name": "stdout",
     "output_type": "stream",
     "text": [
      "<PIL.Image.Image image mode=LA size=300x300 at 0x7F0C604A3880>\n"
     ]
    }
   ],
   "source": [
    "from PIL import Image\n",
    "import numpy as np\n",
    "path = \"packs/test_pack/pngs/firefox.png\"\n",
    "img = Image.open(path)\n",
    "img.getpixel((1,1))\n",
    "print(img)"
   ]
  }
 ],
 "metadata": {
  "kernelspec": {
   "display_name": "base",
   "language": "python",
   "name": "python3"
  },
  "language_info": {
   "codemirror_mode": {
    "name": "ipython",
    "version": 3
   },
   "file_extension": ".py",
   "mimetype": "text/x-python",
   "name": "python",
   "nbconvert_exporter": "python",
   "pygments_lexer": "ipython3",
   "version": "3.10.12"
  },
  "orig_nbformat": 4
 },
 "nbformat": 4,
 "nbformat_minor": 2
}
