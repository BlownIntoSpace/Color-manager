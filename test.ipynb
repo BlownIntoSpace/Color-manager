{
 "cells": [
  {
   "cell_type": "markdown",
   "metadata": {},
   "source": [
    "Performance Log:\n",
    "| Change                                 | Speed        |\n",
    "| -------------------------------------- | ------------ |\n",
    "| No LabColor dictionary                 | 48 svgs/sec  |\n",
    "| LabColor dictionary for palette        | 60 svgs/sec  |\n",
    "| Dynamic LabColor dictionary for inputs | 100 svgs/sec |\n",
    "\n",
    "Additions:\n",
    "- Make it possible to input a file into the recolor function, using an is_dir check, which will have its own progress bar."
   ]
  },
  {
   "cell_type": "code",
   "execution_count": 1,
   "metadata": {},
   "outputs": [],
   "source": [
    "%load_ext autoreload\n",
    "%autoreload 2"
   ]
  },
  {
   "cell_type": "code",
   "execution_count": null,
   "metadata": {},
   "outputs": [],
   "source": [
    "from color_manager import utils\n",
    "\n",
    "src     = \"packs/img_test_pack\"\n",
    "name    = \"my_pack\"\n",
    "dest    = \"~/Downloads\"\n",
    "hsl     = (0.5, 0.5, 0.5) # = rc.normalize_hsl(180, 50, 50)\n",
    "palette = \"palettes/dracula.json\"\n",
    "\n",
    "utils.recolor(src, dest, name, palette) # hsl or palette"
   ]
  }
 ],
 "metadata": {
  "kernelspec": {
   "display_name": "base",
   "language": "python",
   "name": "python3"
  },
  "language_info": {
   "codemirror_mode": {
    "name": "ipython",
    "version": 3
   },
   "file_extension": ".py",
   "mimetype": "text/x-python",
   "name": "python",
   "nbconvert_exporter": "python",
   "pygments_lexer": "ipython3",
   "version": "3.10.12"
  },
  "orig_nbformat": 4
 },
 "nbformat": 4,
 "nbformat_minor": 2
}
