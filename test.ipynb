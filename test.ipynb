{
 "cells": [
  {
   "cell_type": "code",
   "execution_count": null,
   "metadata": {},
   "outputs": [],
   "source": [
    "%load_ext autoreload\n",
    "%autoreload 2\n",
    "\n",
    "from color_manager import utils"
   ]
  },
  {
   "cell_type": "code",
   "execution_count": null,
   "metadata": {},
   "outputs": [],
   "source": [
    "# Generate theme pack.\n",
    "utils.recolor(\n",
    "    \"/opt/nova/theme/NovaOS-nord/\", # Source\n",
    "    \"~/.themes\", # Destination\n",
    "    \"NovaOS-woodland\", # New name\n",
    "    utils.norm_hsl(22, 20, 48)\n",
    ")"
   ]
  },
  {
   "cell_type": "code",
   "execution_count": null,
   "metadata": {},
   "outputs": [],
   "source": [
    "# Generate icon pack.\n",
    "utils.recolor(\n",
    "    \"/opt/nova/icons/NovaOS-nord\", # Source\n",
    "    \"~/.icons\", # Destination\n",
    "    \"NovaOS-woodland\", # New name\n",
    "    utils.norm_hsl(118, 25, 55)\n",
    ")"
   ]
  },
  {
   "cell_type": "code",
   "execution_count": null,
   "metadata": {},
   "outputs": [],
   "source": [
    "# Generate wallpaper pack.\n",
    "utils.recolor(\n",
    "    \"~/Downloads/NovaOS-nord-wallpapers\", # Source\n",
    "    \"~/.wallpapers\", # Destination\n",
    "    \"My_wallpapers\", # New name\n",
    "    utils.norm_hsl(0, 48, 65)\n",
    ")"
   ]
  }
 ],
 "metadata": {
  "kernelspec": {
   "display_name": "base",
   "language": "python",
   "name": "python3"
  },
  "language_info": {
   "codemirror_mode": {
    "name": "ipython",
    "version": 3
   },
   "file_extension": ".py",
   "mimetype": "text/x-python",
   "name": "python",
   "nbconvert_exporter": "python",
   "pygments_lexer": "ipython3",
   "version": "3.10.12"
  },
  "orig_nbformat": 4
 },
 "nbformat": 4,
 "nbformat_minor": 2
}
